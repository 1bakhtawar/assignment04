{
  "nbformat": 4,
  "nbformat_minor": 0,
  "metadata": {
    "colab": {
      "provenance": [],
      "authorship_tag": "ABX9TyOeeQkfR1HtsTWZeK4x8iGH",
      "include_colab_link": true
    },
    "kernelspec": {
      "name": "python3",
      "display_name": "Python 3"
    },
    "language_info": {
      "name": "python"
    }
  },
  "cells": [
    {
      "cell_type": "markdown",
      "metadata": {
        "id": "view-in-github",
        "colab_type": "text"
      },
      "source": [
        "<a href=\"https://colab.research.google.com/github/1bakhtawar/assignment04/blob/main/BMI_Calculator.ipynb\" target=\"_parent\"><img src=\"https://colab.research.google.com/assets/colab-badge.svg\" alt=\"Open In Colab\"/></a>"
      ]
    },
    {
      "cell_type": "code",
      "execution_count": null,
      "metadata": {
        "id": "3CTd8O1_C1nk"
      },
      "outputs": [],
      "source": [
        "# Project 8: Create a Python Streamlit BMI Calculator Web App in Just 6 Minutes\n",
        "import streamlit as st\n",
        "\n",
        "st.title(\"BMI Calculator\")\n",
        "\n",
        "height = st.number_input(\"Enter your height in meters (e.g., 1.75):\", min_value=0.0, format = \"%.2f\")\n",
        "weight = st.number_input(\"Enter your weight in kilograms (e.g., 70):\", min_value=0.0, format = \"%.2f\")\n",
        "\n",
        "if st.button(\"Calculate BMI\"):\n",
        "    if height > 0 and weight > 0:\n",
        "        bmi = weight / (height ** 2)\n",
        "        st.success(f\"Your BMI is : {bmi: .2f}\")\n",
        "\n",
        "        if bmi < 18.5:\n",
        "            st.info(\"You are under weight\")\n",
        "        elif 18.5 <= bmi < 24.9:\n",
        "            st.success(\"You have a normal weight\")\n",
        "        elif 25 <= bmi < 29.9:\n",
        "            st.warning(\"You are over weight\")\n",
        "        else:\n",
        "            st.error(\"You are obese\")\n",
        "    else:\n",
        "        st.error(\"Please enter valid weight and height\")\n",
        "\n"
      ]
    }
  ]
}